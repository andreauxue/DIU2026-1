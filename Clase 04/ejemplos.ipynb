{
 "cells": [
  {
   "cell_type": "markdown",
   "metadata": {},
   "source": [
    "# Clase 04 | Python "
   ]
  },
  {
   "cell_type": "markdown",
   "metadata": {},
   "source": [
    "### Comentarios"
   ]
  },
  {
   "cell_type": "code",
   "execution_count": 10,
   "metadata": {},
   "outputs": [],
   "source": [
    "#HOLA ESTO ES UN COMENTARIO  "
   ]
  },
  {
   "cell_type": "markdown",
   "metadata": {},
   "source": [
    "### Variables"
   ]
  },
  {
   "cell_type": "code",
   "execution_count": 12,
   "metadata": {},
   "outputs": [],
   "source": [
    "nombre = \"Andrea\"\n",
    "edad = 22\n",
    "altura = 1.65 \n",
    "activo  = True "
   ]
  },
  {
   "cell_type": "markdown",
   "metadata": {},
   "source": [
    "### Lista\n"
   ]
  },
  {
   "cell_type": "code",
   "execution_count": 16,
   "metadata": {},
   "outputs": [
    {
     "name": "stdout",
     "output_type": "stream",
     "text": [
      "[10, 2, 3, 4]\n"
     ]
    }
   ],
   "source": [
    "lista = [1, 2, 3]\n",
    "lista.append(4)\n",
    "lista[0] = 10\n",
    "print(lista)"
   ]
  },
  {
   "cell_type": "markdown",
   "metadata": {},
   "source": [
    "### Tupla"
   ]
  },
  {
   "cell_type": "code",
   "execution_count": 18,
   "metadata": {},
   "outputs": [
    {
     "ename": "TypeError",
     "evalue": "'tuple' object does not support item assignment",
     "output_type": "error",
     "traceback": [
      "\u001b[31m---------------------------------------------------------------------------\u001b[39m",
      "\u001b[31mTypeError\u001b[39m                                 Traceback (most recent call last)",
      "\u001b[36mCell\u001b[39m\u001b[36m \u001b[39m\u001b[32mIn[18]\u001b[39m\u001b[32m, line 3\u001b[39m\n\u001b[32m      1\u001b[39m tupla = (\u001b[32m1\u001b[39m, \u001b[32m2\u001b[39m , \u001b[32m3\u001b[39m)\n\u001b[32m      2\u001b[39m \u001b[38;5;66;03m# tupla.append(4)\u001b[39;00m\n\u001b[32m----> \u001b[39m\u001b[32m3\u001b[39m \u001b[43mtupla\u001b[49m\u001b[43m[\u001b[49m\u001b[32;43m0\u001b[39;49m\u001b[43m]\u001b[49m = \u001b[32m10\u001b[39m\n",
      "\u001b[31mTypeError\u001b[39m: 'tuple' object does not support item assignment"
     ]
    }
   ],
   "source": [
    "tupla = (1, 2 , 3)\n",
    "# tupla.append(4)\n",
    "tupla[0] = 10"
   ]
  },
  {
   "cell_type": "code",
   "execution_count": 20,
   "metadata": {},
   "outputs": [
    {
     "name": "stdout",
     "output_type": "stream",
     "text": [
      "<class 'int'>\n",
      "<class 'str'>\n"
     ]
    }
   ],
   "source": [
    "x = 10\n",
    "print(type(x))\n",
    "\n",
    "y = \"Hol\"\n",
    "print(type(y))"
   ]
  },
  {
   "cell_type": "code",
   "execution_count": 21,
   "metadata": {},
   "outputs": [
    {
     "name": "stdout",
     "output_type": "stream",
     "text": [
      "Nombre: Erick\n",
      "Edad: 23\n",
      "Altura: 1.77\n",
      "Es estudiante?: True\n",
      "<class 'str'>\n",
      "<class 'int'>\n",
      "<class 'float'>\n",
      "<class 'bool'>\n"
     ]
    }
   ],
   "source": [
    "# Declarar variables\n",
    "nombre = \"Erick\"\n",
    "edad = 23\n",
    "altura = 1.77\n",
    "estudiante = True \n",
    "\n",
    "# Mostramos valores\n",
    "print(\"Nombre:\", nombre)\n",
    "print(\"Edad:\", edad)\n",
    "print(\"Altura:\", altura)\n",
    "print(\"Es estudiante?:\", estudiante)\n",
    "\n",
    "\n",
    "print(type(nombre))\n",
    "\n",
    "print(type(edad))\n",
    "\n",
    "print(type(altura))\n",
    "\n",
    "print(type(estudiante))\n"
   ]
  },
  {
   "cell_type": "markdown",
   "metadata": {},
   "source": [
    "## Input / Output\n",
    "### Salida de datos\n"
   ]
  },
  {
   "cell_type": "code",
   "execution_count": 22,
   "metadata": {},
   "outputs": [
    {
     "name": "stdout",
     "output_type": "stream",
     "text": [
      "Hola a todos\n",
      "8\n",
      "Resultado: 12\n"
     ]
    }
   ],
   "source": [
    "print(\"Hola a todos\")\n",
    "print(3 + 5)\n",
    "print(\"Resultado:\", 3*4)"
   ]
  },
  {
   "cell_type": "markdown",
   "metadata": {},
   "source": [
    "### Separador personalizado"
   ]
  },
  {
   "cell_type": "code",
   "execution_count": 23,
   "metadata": {},
   "outputs": [
    {
     "name": "stdout",
     "output_type": "stream",
     "text": [
      "A-B-C\n"
     ]
    }
   ],
   "source": [
    "print(\"A\", \"B\", \"C\", sep=\"-\")"
   ]
  },
  {
   "cell_type": "code",
   "execution_count": 27,
   "metadata": {},
   "outputs": [
    {
     "name": "stdout",
     "output_type": "stream",
     "text": [
      "Primera línea Segunda línea\n"
     ]
    }
   ],
   "source": [
    "print(\"Primera línea\", end=\" \")\n",
    "print(\"Segunda línea\")\n"
   ]
  },
  {
   "cell_type": "markdown",
   "metadata": {},
   "source": [
    "### Entrada de datos"
   ]
  },
  {
   "cell_type": "code",
   "execution_count": 29,
   "metadata": {},
   "outputs": [
    {
     "name": "stdout",
     "output_type": "stream",
     "text": [
      "Hola, Andrea\n"
     ]
    }
   ],
   "source": [
    "nombre = input(\"Cómo te llamas?\")\n",
    "print(\"Hola,\", nombre)"
   ]
  },
  {
   "cell_type": "code",
   "execution_count": 30,
   "metadata": {},
   "outputs": [
    {
     "name": "stdout",
     "output_type": "stream",
     "text": [
      "Tendrás 23 el próximo año.\n"
     ]
    }
   ],
   "source": [
    "edad = int(input(\"Cuántos años tienes?\"))\n",
    "print(\"Tendrás\", edad + 1, \"el próximo año.\")"
   ]
  },
  {
   "cell_type": "code",
   "execution_count": 31,
   "metadata": {},
   "outputs": [
    {
     "name": "stdout",
     "output_type": "stream",
     "text": [
      "Altura: 1.65\n"
     ]
    }
   ],
   "source": [
    "altura = float(input(\"Cuál es tu altura en metros?\"))\n",
    "print(\"Altura:\", altura)"
   ]
  },
  {
   "cell_type": "code",
   "execution_count": 32,
   "metadata": {},
   "outputs": [
    {
     "name": "stdout",
     "output_type": "stream",
     "text": [
      "Resumen:\n",
      "Nombre: Andrea\n",
      "Edad: 22\n",
      "Estatura: 1.65 metros\n"
     ]
    }
   ],
   "source": [
    "nombre = input(\"Nombre:\")\n",
    "edad = int(input(\"Edad:\"))\n",
    "altura = float(input(\"Altura:\"))\n",
    "\n",
    "print(\"Resumen:\")\n",
    "print(\"Nombre:\", nombre)\n",
    "print(\"Edad:\", edad)\n",
    "print(\"Estatura:\", altura, \"metros\")\n"
   ]
  },
  {
   "cell_type": "markdown",
   "metadata": {},
   "source": [
    "## Estructuras condicionales\n",
    "\n",
    "if - si se cumple la condición\n",
    "elif - si no se cumple la anterior, pero sí otra\n",
    "else - si no se cumple ninguna condición anterior "
   ]
  },
  {
   "cell_type": "code",
   "execution_count": null,
   "metadata": {},
   "outputs": [],
   "source": [
    "if condicion:\n",
    "    # Bloque si se cumple\n",
    "\n",
    "elif otra_condicion:\n",
    "    # Cloque si se cumple esta otra\n",
    "    \n",
    "else: \n",
    "    # bloque si no se cumple ninguna"
   ]
  },
  {
   "cell_type": "code",
   "execution_count": 34,
   "metadata": {},
   "outputs": [
    {
     "name": "stdout",
     "output_type": "stream",
     "text": [
      "Eres menor de edad\n"
     ]
    }
   ],
   "source": [
    "edad = int(input(\"Cuántos años tienes?\"))\n",
    "\n",
    "if edad >= 18: \n",
    "    print(\"Eres mayor de edad\")\n",
    "else:\n",
    "    print(\"Eres menor de edad\")"
   ]
  },
  {
   "cell_type": "code",
   "execution_count": 37,
   "metadata": {},
   "outputs": [
    {
     "name": "stdout",
     "output_type": "stream",
     "text": [
      "Reprobado\n"
     ]
    }
   ],
   "source": [
    "nota = float(input(\"Introduce tu calificación\"))\n",
    "\n",
    "if nota >= 90:\n",
    "    print(\"Excelente\")\n",
    "elif nota >= 80:\n",
    "    print(\"Notable\")\n",
    "elif nota >= 70:\n",
    "    print(\"Aprobado\")\n",
    "else:\n",
    "    print(\"Reprobado\")\n",
    "    "
   ]
  },
  {
   "cell_type": "markdown",
   "metadata": {},
   "source": [
    "### Operadores lógicos"
   ]
  },
  {
   "cell_type": "code",
   "execution_count": 39,
   "metadata": {},
   "outputs": [
    {
     "name": "stdout",
     "output_type": "stream",
     "text": [
      "Acceso denegado\n"
     ]
    }
   ],
   "source": [
    "usuario = input(\"Usuario: \")\n",
    "clave = input(\"Contraseña: \")\n",
    "\n",
    "if usuario == \"admin\" and clave == \"123\":\n",
    "    print(\"Acceso permitido\")\n",
    "else:\n",
    "    print(\"Acceso denegado\")"
   ]
  },
  {
   "cell_type": "markdown",
   "metadata": {},
   "source": [
    "### Condicionales anidados"
   ]
  },
  {
   "cell_type": "code",
   "execution_count": 43,
   "metadata": {},
   "outputs": [
    {
     "name": "stdout",
     "output_type": "stream",
     "text": [
      "Eres menor de edad\n"
     ]
    }
   ],
   "source": [
    "edad = int(input(\"Edad: \"))\n",
    "\n",
    "if edad >= 18:\n",
    "    if edad >=65:\n",
    "        print(\"Eres adulto mayor\")\n",
    "    else:\n",
    "        print(\"Eres adulto\")\n",
    "else: \n",
    "    print(\"Eres menor de edad\")"
   ]
  },
  {
   "cell_type": "markdown",
   "metadata": {},
   "source": [
    "### Expresiones condicionales"
   ]
  },
  {
   "cell_type": "code",
   "execution_count": 44,
   "metadata": {},
   "outputs": [
    {
     "name": "stdout",
     "output_type": "stream",
     "text": [
      "Menor de edad\n"
     ]
    }
   ],
   "source": [
    "edad = 17\n",
    "mensaje = \"Mayor de edad\" if edad >= 18 else \"Menor de edad\"\n",
    "print(mensaje)"
   ]
  },
  {
   "cell_type": "markdown",
   "metadata": {},
   "source": [
    "## Estructuras de datos"
   ]
  },
  {
   "cell_type": "code",
   "execution_count": 55,
   "metadata": {},
   "outputs": [
    {
     "name": "stdout",
     "output_type": "stream",
     "text": [
      "manzana\n",
      "piña\n",
      "['manzana', 'fresa', 'mango', 'kiwi', 'pera', 'lichi', 'piña']\n",
      "7\n",
      "['manzana', 'fresa', 'mango', 'kiwi', 'pera', 'lichi', 'piña']\n",
      "['manzana', 'fresa', 'mango', 'kiwi', 'pera', 'lichi', 'piña']\n",
      "['manzana', 'fresa', 'mango', 'kiwi', 'pera', 'lichi', 'piña']\n",
      "['manzana', 'fresa', 'mango', 'kiwi', 'pera', 'lichi', 'piña']\n",
      "['manzana', 'fresa', 'mango', 'kiwi', 'pera', 'lichi', 'piña']\n",
      "['manzana', 'fresa', 'mango', 'kiwi', 'pera', 'lichi', 'piña']\n",
      "['manzana', 'fresa', 'mango', 'kiwi', 'pera', 'lichi', 'piña']\n"
     ]
    }
   ],
   "source": [
    "frutas = [\"manzana\", \"fresa\", \"mango\", \"kiwi\", \"pera\", \"lichi\", \"piña\"]\n",
    "print(frutas[0])\n",
    "print(frutas[-1])\n",
    "\n",
    "frutas.append(\"naranja\")\n",
    "frutas.insert(1, \"plátano\")\n",
    "frutas.remove(\"plátano\")\n",
    "frutas.pop()\n",
    "\n",
    "print(frutas)\n",
    "print(len(frutas))\n",
    "\n",
    "for fruta in frutas:\n",
    "    print(frutas)"
   ]
  },
  {
   "cell_type": "markdown",
   "metadata": {},
   "source": [
    "### Tuplas"
   ]
  },
  {
   "cell_type": "code",
   "execution_count": 56,
   "metadata": {},
   "outputs": [
    {
     "name": "stdout",
     "output_type": "stream",
     "text": [
      "3\n"
     ]
    }
   ],
   "source": [
    "punto = (3, 5)\n",
    "\n",
    "print(punto[0])"
   ]
  },
  {
   "cell_type": "markdown",
   "metadata": {},
   "source": [
    "### Conjunto"
   ]
  },
  {
   "cell_type": "code",
   "execution_count": 59,
   "metadata": {},
   "outputs": [
    {
     "name": "stdout",
     "output_type": "stream",
     "text": [
      "{'negro', 'verde', 'rosa', 'azul', 'morado', 'naranja'}\n",
      "{'negro', 'verde', 'rojo', 'azul', 'morado', 'naranja'}\n"
     ]
    }
   ],
   "source": [
    "colores = {\"azul\", \"morado\", \"verde\", \"negro\", \"naranja\", \"rosa\"}\n",
    "print(colores)\n",
    "\n",
    "colores.add(\"rojo\")\n",
    "colores.remove(\"rosa\")\n",
    "\n",
    "print(colores)"
   ]
  },
  {
   "cell_type": "code",
   "execution_count": 61,
   "metadata": {},
   "outputs": [
    {
     "name": "stdout",
     "output_type": "stream",
     "text": [
      "{3}\n",
      "{1, 2, 3, 4, 5}\n",
      "{1, 2}\n"
     ]
    }
   ],
   "source": [
    "a = {1, 2, 3}\n",
    "b = {3, 4, 5}\n",
    "\n",
    "print(a & b)\n",
    "print(a | b)\n",
    "print(a - b)\n",
    "\n"
   ]
  },
  {
   "cell_type": "markdown",
   "metadata": {},
   "source": [
    "### Diccionarios\n",
    "clave: valor"
   ]
  },
  {
   "cell_type": "code",
   "execution_count": 66,
   "metadata": {},
   "outputs": [
    {
     "name": "stdout",
     "output_type": "stream",
     "text": [
      "Ulises\n",
      "nombre -> Ulises\n",
      "edad -> 20\n",
      "profesion -> Intern de ciberseguridad\n",
      "ciudad -> CDMX\n"
     ]
    }
   ],
   "source": [
    "persona = {\n",
    "    \"nombre\": \"Ulises\",\n",
    "    \"edad\": 22,\n",
    "    \"profesion\": \"Intern de ciberseguridad\"\n",
    "    \n",
    "}\n",
    "\n",
    "print(persona[\"nombre\"])\n",
    "\n",
    "persona[\"edad\"] = 20\n",
    "persona[\"ciudad\"] = \"CDMX\"\n",
    "# print(persona)\n",
    "\n",
    "for clave, valor in persona.items():\n",
    "    print(clave, \"->\", valor)\n"
   ]
  },
  {
   "cell_type": "markdown",
   "metadata": {},
   "source": [
    "# POO"
   ]
  },
  {
   "cell_type": "code",
   "execution_count": null,
   "metadata": {},
   "outputs": [],
   "source": [
    "# Sintáxis\n",
    "\n",
    "class NombreDeLaClase:\n",
    "    def __init__(self, parámetros):\n",
    "        self.atributo = valor"
   ]
  },
  {
   "cell_type": "code",
   "execution_count": 71,
   "metadata": {},
   "outputs": [
    {
     "name": "stdout",
     "output_type": "stream",
     "text": [
      "Luna dice guau\n",
      "Luna tiene 2 años\n"
     ]
    }
   ],
   "source": [
    "class Mascota:\n",
    "    def __init__(self, nombre, edad):\n",
    "        self.nombre = nombre\n",
    "        self.edad = edad\n",
    "    def hablar(self):\n",
    "        print(f\"{self.nombre} dice guau\")\n",
    "    def desribir(self):\n",
    "        print(f\"{self.nombre} tiene {self.edad} años\")  \n",
    "luna = Mascota(\"Luna\", 2)\n",
    "\n",
    "luna.hablar()\n",
    "luna.desribir()"
   ]
  },
  {
   "cell_type": "markdown",
   "metadata": {},
   "source": [
    "# Herencia"
   ]
  },
  {
   "cell_type": "code",
   "execution_count": 72,
   "metadata": {},
   "outputs": [
    {
     "name": "stdout",
     "output_type": "stream",
     "text": [
      "Nala dice guau guau!!!\n"
     ]
    }
   ],
   "source": [
    "class Perro(Mascota):\n",
    "    def hablar(self):\n",
    "        print(f\"{self.nombre} dice guau guau!!!\")\n",
    "        \n",
    "nala = Perro(\"Nala\", 7)\n",
    "nala.hablar()"
   ]
  },
  {
   "cell_type": "markdown",
   "metadata": {},
   "source": []
  },
  {
   "cell_type": "markdown",
   "metadata": {},
   "source": [
    "<!-- Sintá -->"
   ]
  }
 ],
 "metadata": {
  "kernelspec": {
   "display_name": "Python 3",
   "language": "python",
   "name": "python3"
  },
  "language_info": {
   "codemirror_mode": {
    "name": "ipython",
    "version": 3
   },
   "file_extension": ".py",
   "mimetype": "text/x-python",
   "name": "python",
   "nbconvert_exporter": "python",
   "pygments_lexer": "ipython3",
   "version": "3.13.3"
  }
 },
 "nbformat": 4,
 "nbformat_minor": 2
}
